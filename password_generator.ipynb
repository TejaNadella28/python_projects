{
 "cells": [
  {
   "cell_type": "code",
   "execution_count": 4,
   "id": "e0847054",
   "metadata": {},
   "outputs": [
    {
     "name": "stdout",
     "output_type": "stream",
     "text": [
      "WECLOME TO PASSWORD GENERATOR!\n",
      "How many 'Letters' do you want in your password?\n",
      "2\n",
      "How many 'Numbers' do you want in your password?\n",
      "4\n",
      "How many 'symbols' do you want in your password?\n",
      "1\n",
      "9n041$w\n"
     ]
    }
   ],
   "source": [
    "import random\n",
    "letters = ['a','b','c','d','e','f','g','h','i','j','k','l','m','n','o','p','q','r','s','t','v','u','w','x','y','z','A','B','C','D','E','F','G','H','I','J','K','L','M','N','O','P','Q','R','S','T','U','V','W','X','Y','Z']\n",
    "numbers = ['0','1','2','3','4','5','6','7','8','9']\n",
    "symbols = ['@','#','$','%','(',')']\n",
    "print(\"WECLOME TO PASSWORD GENERATOR!\")\n",
    "l = int(input(\"How many 'Letters' do you want in your password?\\n\")) #Letters\n",
    "n = int(input(\"How many 'Numbers' do you want in your password?\\n\")) #numbers\n",
    "s = int(input(\"How many 'symbols' do you want in your password?\\n\"))  #symbols\n",
    "password = []\n",
    "for i in range(1,l+1):\n",
    "    char = random.choice(letters)\n",
    "    password += char\n",
    "for i in range(1,n+1):\n",
    "    num = random.choice(numbers)\n",
    "    password += num\n",
    "for i in range(1,s+1):\n",
    "    sym = random.choice(symbols)\n",
    "    password += sym\n",
    "random.shuffle(password) # for shuffle the generator password\n",
    "password_list = \"\"\n",
    "for i in password:\n",
    "    password_list+=i\n",
    "print(password_list)    \n",
    "\n"
   ]
  },
  {
   "cell_type": "code",
   "execution_count": null,
   "id": "127c1a36",
   "metadata": {},
   "outputs": [],
   "source": []
  }
 ],
 "metadata": {
  "kernelspec": {
   "display_name": "Python 3 (ipykernel)",
   "language": "python",
   "name": "python3"
  },
  "language_info": {
   "codemirror_mode": {
    "name": "ipython",
    "version": 3
   },
   "file_extension": ".py",
   "mimetype": "text/x-python",
   "name": "python",
   "nbconvert_exporter": "python",
   "pygments_lexer": "ipython3",
   "version": "3.11.5"
  }
 },
 "nbformat": 4,
 "nbformat_minor": 5
}
